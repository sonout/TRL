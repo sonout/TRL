{
 "cells": [
  {
   "cell_type": "code",
   "execution_count": null,
   "metadata": {},
   "outputs": [],
   "source": [
    "import os\n",
    "import sys\n",
    "\n",
    "import json\n",
    "import torch\n",
    "\n",
    "import pandas as pd\n",
    "import numpy as np\n",
    "import networkx as nx\n",
    "\n",
    "\n",
    "sys.path.append(\"../../..\")\n",
    "from pipelines.utils import DATASET_NAME, ROOT_DIR, TRAIN_CONFIG_KEYS, load_road_network\n",
    "from road_emb import GAEModel, GATEncoder, Node2VecModel\n",
    "from utils import create_pyg_data\n",
    "\n",
    "device = torch.device('cuda:0' if torch.cuda.is_available() else 'cpu')\n",
    "\n",
    "city = \"porto\"\n",
    "edge_df, _, _, LG = load_road_network(city_name=city)"
   ]
  },
  {
   "cell_type": "code",
   "execution_count": null,
   "metadata": {},
   "outputs": [],
   "source": [
    "#### Features \n",
    "\n",
    "# highway, length util, avg_speed, maxspeed\n",
    "# Calc: travel_time\n",
    "df = edge_df[[\"highway_enc\", \"lanes\", \"maxspeed\", \"length\", \"avg_speed\", \"util\"]]\n",
    "data = create_pyg_data(LG, df, calc_traveltime=True)\n",
    "data"
   ]
  },
  {
   "cell_type": "code",
   "execution_count": null,
   "metadata": {},
   "outputs": [],
   "source": [
    "node2vec = Node2VecModel(data, device=device, q=4, p=1)\n",
    "node2vec.train(epochs=200)"
   ]
  },
  {
   "cell_type": "code",
   "execution_count": null,
   "metadata": {},
   "outputs": [],
   "source": [
    "gae_model = GAEModel(data, device=device, encoder=GATEncoder, emb_dim=128)\n",
    "gae_model.train(epochs=10000)"
   ]
  },
  {
   "cell_type": "code",
   "execution_count": null,
   "metadata": {},
   "outputs": [],
   "source": [
    "# Obtain embeddings and combine them\n",
    "gae_embs = gae_model.load_emb()\n",
    "node2vec_embs = node2vec.load_emb()"
   ]
  },
  {
   "cell_type": "code",
   "execution_count": null,
   "metadata": {},
   "outputs": [],
   "source": [
    "# Obtain embeddings and combine them\n",
    "gae_embs = gae_model.load_emb()\n",
    "node2vec_embs = node2vec.load_emb()\n",
    "\n",
    "embs = np.concatenate((gae_embs, node2vec_embs), axis=1)"
   ]
  },
  {
   "cell_type": "code",
   "execution_count": null,
   "metadata": {},
   "outputs": [],
   "source": []
  },
  {
   "cell_type": "code",
   "execution_count": null,
   "metadata": {},
   "outputs": [],
   "source": [
    "# Safe embeddings\n",
    "embs_file = f\"{city}_road_embs2.pkl\"\n",
    "embs_file = os.path.join(ROOT_DIR, \"models/proposed/road_cell_embeddings\", embs_file)\n",
    "# pickle\n",
    "import pickle\n",
    "with open(embs_file, 'wb') as fh:\n",
    "    pickle.dump(embs, fh, protocol = pickle.HIGHEST_PROTOCOL)"
   ]
  },
  {
   "cell_type": "code",
   "execution_count": null,
   "metadata": {},
   "outputs": [],
   "source": [
    "embs_file"
   ]
  },
  {
   "cell_type": "code",
   "execution_count": null,
   "metadata": {},
   "outputs": [],
   "source": [
    "embs.shape"
   ]
  },
  {
   "cell_type": "code",
   "execution_count": null,
   "metadata": {},
   "outputs": [],
   "source": [
    "# How are they connected?\n",
    "# "
   ]
  },
  {
   "cell_type": "code",
   "execution_count": null,
   "metadata": {},
   "outputs": [],
   "source": []
  },
  {
   "cell_type": "markdown",
   "metadata": {},
   "source": [
    "### Toast ###"
   ]
  },
  {
   "cell_type": "code",
   "execution_count": null,
   "metadata": {},
   "outputs": [],
   "source": [
    "from models.baselines.toast import SkipGramToast"
   ]
  },
  {
   "cell_type": "code",
   "execution_count": null,
   "metadata": {},
   "outputs": [],
   "source": [
    "edge_df.shape"
   ]
  },
  {
   "cell_type": "code",
   "execution_count": null,
   "metadata": {},
   "outputs": [],
   "source": [
    "input_size = edge_df.shape[0]\n",
    "path = \"models/states/porto/toast_segments_porto.pt\""
   ]
  },
  {
   "cell_type": "code",
   "execution_count": null,
   "metadata": {},
   "outputs": [],
   "source": [
    "_road_encoder = SkipGramToast(\n",
    "   input_size, 128 # self.config[\"road_emb_size\"]\n",
    ")\n",
    "_road_encoder.load_model(\n",
    "    path=os.path.join(ROOT_DIR, path)\n",
    ")"
   ]
  },
  {
   "cell_type": "code",
   "execution_count": null,
   "metadata": {},
   "outputs": [],
   "source": [
    "_road_emb = _road_encoder.load_emb()"
   ]
  },
  {
   "cell_type": "code",
   "execution_count": null,
   "metadata": {},
   "outputs": [],
   "source": [
    "_road_emb.shape"
   ]
  },
  {
   "cell_type": "code",
   "execution_count": null,
   "metadata": {},
   "outputs": [],
   "source": [
    "# Safe embeddings\n",
    "embs_file = f\"{city}_road_embs_toast.pkl\"\n",
    "embs_file = os.path.join(ROOT_DIR, \"models/proposed/road_cell_embeddings\", embs_file)\n",
    "# pickle\n",
    "import pickle\n",
    "with open(embs_file, 'wb') as fh:\n",
    "    pickle.dump(_road_emb, fh, protocol = pickle.HIGHEST_PROTOCOL)\n",
    "    print(\"Saved to: \", embs_file)"
   ]
  },
  {
   "cell_type": "code",
   "execution_count": null,
   "metadata": {},
   "outputs": [],
   "source": []
  }
 ],
 "metadata": {
  "kernelspec": {
   "display_name": "lightly",
   "language": "python",
   "name": "python3"
  },
  "language_info": {
   "codemirror_mode": {
    "name": "ipython",
    "version": 3
   },
   "file_extension": ".py",
   "mimetype": "text/x-python",
   "name": "python",
   "nbconvert_exporter": "python",
   "pygments_lexer": "ipython3",
   "version": "3.9.15"
  },
  "orig_nbformat": 4
 },
 "nbformat": 4,
 "nbformat_minor": 2
}
