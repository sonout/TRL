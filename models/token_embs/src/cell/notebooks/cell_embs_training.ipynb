{
 "cells": [
  {
   "cell_type": "code",
   "execution_count": null,
   "metadata": {},
   "outputs": [],
   "source": [
    "%load_ext autoreload\n",
    "%autoreload 2\n",
    "\n",
    "import os\n",
    "import sys\n",
    "\n",
    "module_path = os.path.abspath(os.path.join('../..'))\n",
    "if module_path not in sys.path:\n",
    "    sys.path.append(module_path)\n",
    "\n",
    "import torch\n",
    "import pandas as pd\n",
    "import numpy as np\n",
    "import pickle\n",
    "\n",
    "from model_classes import SkipGramModel, Node2VecModel, SFCModel, GAEModel, GATEncoder, GCNEncoder\n",
    "from pipelines.utils import ROOT_DIR, load_config\n",
    "from models.utils import meters2lonlat, lonlat2meters\n",
    "\n",
    "\n",
    "os.environ[\"CUDA_DEVICE_ORDER\"] = \"PCI_BUS_ID\"\n",
    "os.environ[\"CUDA_VISIBLE_DEVICES\"] = \"0\"\n",
    "device = torch.device('cuda:0' if torch.cuda.is_available() else 'cpu')"
   ]
  },
  {
   "cell_type": "code",
   "execution_count": null,
   "metadata": {},
   "outputs": [],
   "source": [
    "data_config = load_config(name='porto', ctype=\"dataset\")\n",
    "\n",
    "# Load CellSpace\n",
    "dataset_cell_file = f\"{data_config['city']}_cell{int(data_config['cell_size'])}_cellspace.pkl\"\n",
    "file_path = os.path.join(ROOT_DIR, \"models/road_embs/\", dataset_cell_file)\n",
    "with open(file_path, 'rb') as fh:\n",
    "    cs = pickle.load(fh)\n",
    "\n",
    "# Load Feats Matrix\n",
    "feats_mx_file = f\"{data_config['city']}_cell{int(data_config['cell_size'])}_feats_mx.pkl\"\n",
    "file_path = os.path.join(ROOT_DIR, \"models/road_embs/\", feats_mx_file)\n",
    "with open(file_path, 'rb') as fh:\n",
    "    feats_mx = pickle.load(fh)\n",
    "\n"
   ]
  },
  {
   "cell_type": "code",
   "execution_count": null,
   "metadata": {},
   "outputs": [],
   "source": [
    "_, edge_index = cs.all_neighbour_cell_pairs_permutated_optmized()\n",
    "\n",
    "# To torch tensor\n",
    "feats_mx_torch = torch.tensor(feats_mx, dtype = torch.long, device = device)\n",
    "edge_index_torch = torch.tensor(edge_index, dtype = torch.long, device = device).T\n",
    "\n",
    "# Create PYG Data Set\n",
    "from torch_geometric.data import Data\n",
    "data = Data(x=feats_mx_torch, edge_index=edge_index_torch)\n",
    "\n",
    "data"
   ]
  },
  {
   "cell_type": "code",
   "execution_count": null,
   "metadata": {},
   "outputs": [],
   "source": [
    "# Create a fake weighted adj mx\n",
    "import networkx as nx\n",
    "G = nx.Graph(edge_index)\n",
    "adj = nx.adjacency_matrix(G)\n",
    "adj = adj.toarray()\n",
    "row_sums = adj.sum(axis=1)\n",
    "adj = adj / row_sums[:, np.newaxis]\n"
   ]
  },
  {
   "cell_type": "code",
   "execution_count": null,
   "metadata": {},
   "outputs": [],
   "source": [
    "model = SFCModel(data, adj=adj, device=device, layers=2, add_edge_degree=False)"
   ]
  },
  {
   "cell_type": "code",
   "execution_count": null,
   "metadata": {},
   "outputs": [],
   "source": [
    "model.train()"
   ]
  },
  {
   "cell_type": "code",
   "execution_count": null,
   "metadata": {},
   "outputs": [],
   "source": [
    "node2vec = Node2VecModel(\n",
    "    data,\n",
    "    device=device,\n",
    "    emb_dim=128,\n",
    "    walk_length=50,\n",
    "    walks_per_node=10,\n",
    "    context_size=10,\n",
    ")"
   ]
  },
  {
   "cell_type": "code",
   "execution_count": null,
   "metadata": {},
   "outputs": [],
   "source": [
    "node2vec.train(20)"
   ]
  },
  {
   "cell_type": "code",
   "execution_count": null,
   "metadata": {},
   "outputs": [],
   "source": [
    "node2vec.load_model"
   ]
  },
  {
   "cell_type": "code",
   "execution_count": null,
   "metadata": {},
   "outputs": [],
   "source": [
    "model_emb = node2vec.load_emb()"
   ]
  },
  {
   "cell_type": "code",
   "execution_count": null,
   "metadata": {},
   "outputs": [],
   "source": [
    "print(model_emb.shape)\n",
    "\n",
    "# Save it for trajectory embeddings\n",
    "save_path =\"trajemb/models/road_embs\"\n",
    "\n",
    "# Safe embeddings\n",
    "#model_emb = torch.from_numpy(model_emb)\n",
    "model_name = \"node2vec\"\n",
    "city = \"porto\"\n",
    "add = f\"\"\n",
    "embs_file = f\"{city}_cell_embs_{model_name}{add}.pkl\"\n",
    "embs_file = os.path.join(save_path, embs_file)\n",
    "with open(embs_file, 'wb') as fh:\n",
    "    pickle.dump(model_emb, fh, protocol = pickle.HIGHEST_PROTOCOL)\n",
    "    print(\"Saved to: \", embs_file)"
   ]
  },
  {
   "cell_type": "code",
   "execution_count": null,
   "metadata": {},
   "outputs": [],
   "source": []
  },
  {
   "cell_type": "code",
   "execution_count": null,
   "metadata": {},
   "outputs": [],
   "source": [
    "emb_dim = 128"
   ]
  },
  {
   "cell_type": "code",
   "execution_count": null,
   "metadata": {},
   "outputs": [],
   "source": [
    "data.x.shape"
   ]
  },
  {
   "cell_type": "code",
   "execution_count": null,
   "metadata": {},
   "outputs": [],
   "source": [
    "# Try normalizing, without transform, ..."
   ]
  },
  {
   "cell_type": "code",
   "execution_count": null,
   "metadata": {},
   "outputs": [],
   "source": [
    "import torch_geometric.transforms as T\n",
    "transform = T.Compose([\n",
    "    T.OneHotDegree(9), # training without features\n",
    "    #T.ToDevice(device),\n",
    "])\n",
    "data = transform(data)\n",
    "print(data.x.shape)\n",
    "model = GAEModel(data, device=device, encoder=GATEncoder, emb_dim=128)\n"
   ]
  },
  {
   "cell_type": "code",
   "execution_count": null,
   "metadata": {},
   "outputs": [],
   "source": [
    "model.train(epochs=10000)"
   ]
  },
  {
   "cell_type": "code",
   "execution_count": null,
   "metadata": {},
   "outputs": [],
   "source": [
    "model_emb = model.load_emb()"
   ]
  },
  {
   "cell_type": "code",
   "execution_count": null,
   "metadata": {},
   "outputs": [],
   "source": [
    "# Save it for trajectory embeddings\n",
    "save_path =\"trajemb/models/road_embs\"\n",
    "\n",
    "# Safe embeddings\n",
    "#model_emb = torch.from_numpy(model_emb)\n",
    "model_name = \"gae\"\n",
    "city = \"porto\"\n",
    "add = f\"\"\n",
    "embs_file = f\"{city}_cell_embs_{model_name}{add}.pkl\"\n",
    "embs_file = os.path.join(save_path, embs_file)\n",
    "# pickle\n",
    "import pickle\n",
    "with open(embs_file, 'wb') as fh:\n",
    "    pickle.dump(model_emb, fh, protocol = pickle.HIGHEST_PROTOCOL)\n",
    "    print(\"Saved to: \", embs_file)"
   ]
  },
  {
   "cell_type": "code",
   "execution_count": null,
   "metadata": {},
   "outputs": [],
   "source": [
    "traj2vec = SkipGramModel(\n",
    "            data,\n",
    "            adj=adj,\n",
    "            device=device,\n",
    "            emb_dim=128,\n",
    "            walk_length=50,#30\n",
    "            context_size=10, #5\n",
    "            walks_per_node=10, #25\n",
    "            num_neg=10,\n",
    "        )\n",
    "\n"
   ]
  },
  {
   "cell_type": "code",
   "execution_count": null,
   "metadata": {},
   "outputs": [],
   "source": [
    "traj2vec.train(epochs=30)"
   ]
  },
  {
   "cell_type": "code",
   "execution_count": null,
   "metadata": {},
   "outputs": [],
   "source": [
    "model_emb = traj2vec.load_emb()"
   ]
  },
  {
   "cell_type": "code",
   "execution_count": null,
   "metadata": {},
   "outputs": [],
   "source": [
    "model_emb.shape"
   ]
  },
  {
   "cell_type": "code",
   "execution_count": null,
   "metadata": {},
   "outputs": [],
   "source": [
    "# Save it for trajectory embeddings\n",
    "save_path =\"trajemb/models/road_embs\"\n",
    "\n",
    "# Safe embeddings\n",
    "model_emb = torch.from_numpy(model_emb)\n",
    "model_name = \"traj_skipgram\"\n",
    "city = \"porto\"\n",
    "add = f\"\"\n",
    "embs_file = f\"{city}_road_embs_{model_name}{add}.pkl\"\n",
    "embs_file = os.path.join(save_path, embs_file)\n",
    "# pickle\n",
    "import pickle\n",
    "with open(embs_file, 'wb') as fh:\n",
    "    pickle.dump(model_emb, fh, protocol = pickle.HIGHEST_PROTOCOL)\n",
    "    print(\"Saved to: \", embs_file)"
   ]
  }
 ],
 "metadata": {
  "kernelspec": {
   "display_name": "lightly",
   "language": "python",
   "name": "python3"
  },
  "language_info": {
   "codemirror_mode": {
    "name": "ipython",
    "version": 3
   },
   "file_extension": ".py",
   "mimetype": "text/x-python",
   "name": "python",
   "nbconvert_exporter": "python",
   "pygments_lexer": "ipython3",
   "version": "3.9.15"
  },
  "orig_nbformat": 4
 },
 "nbformat": 4,
 "nbformat_minor": 2
}
