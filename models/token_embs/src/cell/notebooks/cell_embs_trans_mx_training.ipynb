{
 "cells": [
  {
   "cell_type": "code",
   "execution_count": null,
   "metadata": {},
   "outputs": [],
   "source": [
    "# Try \n",
    "# 1. training on all cells\n",
    "# 2. traning only on cells with transition and then just set others to 0"
   ]
  },
  {
   "cell_type": "code",
   "execution_count": null,
   "metadata": {},
   "outputs": [],
   "source": [
    "import os\n",
    "import sys\n",
    "\n",
    "module_path = os.path.abspath(os.path.join('../..'))\n",
    "if module_path not in sys.path:\n",
    "    sys.path.append(module_path)\n",
    "\n",
    "import torch\n",
    "import pandas as pd\n",
    "import numpy as np\n",
    "import pickle\n",
    "\n",
    "from model_classes import SkipGramModel, Node2VecModel, SFCModel, GAEModel, GATEncoder, GCNEncoder\n",
    "from pipelines.utils import ROOT_DIR, load_config\n",
    "from models.utils import meters2lonlat, lonlat2meters\n",
    "from torch_geometric.utils.convert import from_scipy_sparse_matrix\n",
    "from scipy.sparse import csr_matrix\n",
    "\n",
    "\n",
    "os.environ[\"CUDA_DEVICE_ORDER\"] = \"PCI_BUS_ID\"\n",
    "os.environ[\"CUDA_VISIBLE_DEVICES\"] = \"0\"\n",
    "device = torch.device('cpu' if torch.cuda.is_available() else 'cpu')"
   ]
  },
  {
   "cell_type": "code",
   "execution_count": null,
   "metadata": {},
   "outputs": [],
   "source": [
    "#### Transition Matrix ####\n",
    "trans_mx = np.load('cell_trans-mx.npz')['arr_0']\n",
    "trans_sym_mx = trans_mx + trans_mx.T\n",
    "# Select only those cells with connections\n",
    "cells_idx = np.any(trans_sym_mx, axis=0)\n"
   ]
  },
  {
   "cell_type": "code",
   "execution_count": null,
   "metadata": {},
   "outputs": [],
   "source": [
    "trans_clipped = trans_sym_mx[cells_idx][:, cells_idx]"
   ]
  },
  {
   "cell_type": "code",
   "execution_count": null,
   "metadata": {},
   "outputs": [],
   "source": [
    "neg_idx = ~cells_idx"
   ]
  },
  {
   "cell_type": "code",
   "execution_count": null,
   "metadata": {},
   "outputs": [],
   "source": [
    "neg_idx = ~cells_idx\n",
    "trans_add_selfloops = trans_sym_mx[np.ix_(neg_idx, neg_idx)] = np.eye(neg_idx.sum()) * 1"
   ]
  },
  {
   "cell_type": "code",
   "execution_count": null,
   "metadata": {},
   "outputs": [],
   "source": [
    "def preprocess_trans_mx(trans_clipped, self_weight=0.5):\n",
    "    # Def normalizing rows\n",
    "    def normalize_rows(matrix, axis=1):\n",
    "        row_sums = np.sum(matrix, axis=axis)\n",
    "        normalized_matrix = matrix / row_sums[:, np.newaxis]\n",
    "        return normalized_matrix\n",
    "    \n",
    "    # As we normalize we need to adjust for that\n",
    "    calc_weight = - self_weight / (self_weight-1)\n",
    "\n",
    "    # We normalize first to havee normal weights\n",
    "    norm_mx = normalize_rows(trans_clipped)\n",
    "    # Than we add the diagonal, such that after second normalization we have self_weight as diagonal.\n",
    "    np.fill_diagonal(norm_mx, calc_weight)\n",
    "    norm_mx = normalize_rows(norm_mx)\n",
    "    return norm_mx\n"
   ]
  },
  {
   "cell_type": "code",
   "execution_count": null,
   "metadata": {},
   "outputs": [],
   "source": [
    "# Ether trans_add_selfloops or trans_clipped\n",
    "trans_mx_pp = preprocess_trans_mx(trans_add_selfloops, self_weight=0.5)"
   ]
  },
  {
   "cell_type": "code",
   "execution_count": null,
   "metadata": {},
   "outputs": [],
   "source": [
    "data_config = load_config(name='porto', ctype=\"dataset\")\n",
    "\n",
    "# Load CellSpace\n",
    "dataset_cell_file = f\"{data_config['city']}_cell{int(data_config['cell_size'])}_cellspace.pkl\"\n",
    "file_path = os.path.join(ROOT_DIR, \"models/road_embs/\", dataset_cell_file)\n",
    "with open(file_path, 'rb') as fh:\n",
    "    cs = pickle.load(fh)\n",
    "\n",
    "# Load Feats Matrix\n",
    "feats_mx_file = f\"{data_config['city']}_cell{int(data_config['cell_size'])}_feats_mx.pkl\"\n",
    "file_path = os.path.join(ROOT_DIR, \"models/road_embs/\", feats_mx_file)\n",
    "with open(file_path, 'rb') as fh:\n",
    "    feats_mx = pickle.load(fh)\n",
    "\n"
   ]
  },
  {
   "cell_type": "code",
   "execution_count": null,
   "metadata": {},
   "outputs": [],
   "source": [
    "feats_mx[cells_idx].shape"
   ]
  },
  {
   "cell_type": "code",
   "execution_count": null,
   "metadata": {},
   "outputs": [],
   "source": [
    "from sklearn import preprocessing\n",
    "feats_mx_norm = preprocessing.normalize(feats_mx)"
   ]
  },
  {
   "cell_type": "code",
   "execution_count": null,
   "metadata": {},
   "outputs": [],
   "source": [
    "# Create edge_index from transition matrix\n",
    "adj_mx = (trans_mx_pp > 0).astype(int)\n",
    "adj_t = csr_matrix(adj_mx)\n",
    "edge_index_torch = from_scipy_sparse_matrix(adj_t)[0]\n",
    "\n",
    "# To torch tensor\n",
    "feats_mx_torch = torch.tensor(feats_mx_norm, dtype = torch.long, device = device)\n",
    "#edge_index_torch = torch.tensor(edge_index, dtype = torch.long, device = device)\n",
    "\n",
    "# Create PYG Data Set\n",
    "from torch_geometric.data import Data\n",
    "data = Data(x=feats_mx_torch, edge_index=edge_index_torch)\n",
    "\n",
    "data"
   ]
  },
  {
   "cell_type": "code",
   "execution_count": null,
   "metadata": {},
   "outputs": [],
   "source": [
    "import torch_geometric.transforms as T\n",
    "device = torch.device('cuda:0' if torch.cuda.is_available() else 'cpu')\n",
    "transform = T.Compose([\n",
    "    T.OneHotDegree(20), # training without features\n",
    "    T.ToDevice(device),\n",
    "])\n",
    "data = transform(data)\n",
    "print(data.x.shape)\n",
    "\n"
   ]
  },
  {
   "cell_type": "code",
   "execution_count": null,
   "metadata": {},
   "outputs": [],
   "source": [
    "emb_dim = 128\n",
    "model = GAEModel(data, device=device, encoder=GATEncoder, emb_dim=emb_dim)\n",
    "model.train(epochs=10000)"
   ]
  },
  {
   "cell_type": "code",
   "execution_count": null,
   "metadata": {},
   "outputs": [],
   "source": [
    "model = SFCModel(data, adj=trans_mx_pp, device=device, layers=2, add_edge_degree=False)\n",
    "model.train(epochs=10000)"
   ]
  },
  {
   "cell_type": "code",
   "execution_count": null,
   "metadata": {},
   "outputs": [],
   "source": [
    "emb_mx = model.load_emb()"
   ]
  },
  {
   "cell_type": "code",
   "execution_count": null,
   "metadata": {},
   "outputs": [],
   "source": [
    "cells_idx.shape[0]"
   ]
  },
  {
   "cell_type": "code",
   "execution_count": null,
   "metadata": {},
   "outputs": [],
   "source": [
    "# Now we need to fill an embeddings matrix with the subset we learned the mebeddings for\n",
    "mx = torch.zeros((cells_idx.shape[0], emb_dim))\n",
    "mx[cells_idx] = emb_mx.cpu().detach()\n",
    "# WARING: THIS WORKS NOT GOOD, as during training we select those zero embeddings"
   ]
  },
  {
   "cell_type": "code",
   "execution_count": null,
   "metadata": {},
   "outputs": [],
   "source": [
    "# Idea 2: Get node2vec embs and fill them in\n",
    "mx = node2vec_emb\n",
    "mx[cells_idx] = emb_mx"
   ]
  },
  {
   "cell_type": "code",
   "execution_count": null,
   "metadata": {},
   "outputs": [],
   "source": []
  },
  {
   "cell_type": "code",
   "execution_count": null,
   "metadata": {},
   "outputs": [],
   "source": [
    "model_emb = mx\n",
    "print(model_emb.shape)\n",
    "\n",
    "# Save it for trajectory embeddings\n",
    "save_path =\"/models/road_embs\"\n",
    "\n",
    "# Safe embeddings\n",
    "#model_emb = torch.from_numpy(model_emb)\n",
    "model_name = \"sfc\"\n",
    "city = \"porto\"\n",
    "add = f\"\"\n",
    "embs_file = f\"{city}_cell_embs_{model_name}{add}.pkl\"\n",
    "embs_file = os.path.join(save_path, embs_file)\n",
    "with open(embs_file, 'wb') as fh:\n",
    "    pickle.dump(model_emb, fh, protocol = pickle.HIGHEST_PROTOCOL)\n",
    "    print(\"Saved to: \", embs_file)"
   ]
  },
  {
   "cell_type": "markdown",
   "metadata": {},
   "source": [
    "### Concat GAE + Node2Vec"
   ]
  },
  {
   "cell_type": "code",
   "execution_count": null,
   "metadata": {},
   "outputs": [],
   "source": [
    "# Lead embeddings with pickle\n",
    "import pickle\n",
    "embs_file = \"trajemb/models/road_embs/porto_cell_embs_node2vec.pkl\"\n",
    "with open(embs_file, 'rb') as fh:\n",
    "    node2vec_emb = pickle.load(fh)\n",
    "    print(\"Loaded from: \", embs_file)\n",
    "print(node2vec_emb.shape)"
   ]
  },
  {
   "cell_type": "code",
   "execution_count": null,
   "metadata": {},
   "outputs": [],
   "source": [
    "# Lead embeddings with pickle\n",
    "embs_file = \"trajemb/models/road_embs/porto_cell_embs_gae.pkl\"\n",
    "with open(embs_file, 'rb') as fh:\n",
    "    gae_emb = pickle.load(fh)\n",
    "    print(\"Loaded from: \", embs_file)\n",
    "print(gae_emb.shape)"
   ]
  },
  {
   "cell_type": "code",
   "execution_count": null,
   "metadata": {},
   "outputs": [],
   "source": [
    "node2vec_emb = node2vec_emb.cpu().detach()"
   ]
  },
  {
   "cell_type": "code",
   "execution_count": null,
   "metadata": {},
   "outputs": [],
   "source": [
    "# Concat torch tensors on dim 1\n",
    "import torch\n",
    "emb_concat = torch.cat((gae_emb, node2vec_emb.cpu().detach()), dim=1)"
   ]
  },
  {
   "cell_type": "code",
   "execution_count": null,
   "metadata": {},
   "outputs": [],
   "source": [
    "# Save it for trajectory embeddings\n",
    "save_path =\"/trajemb/models/road_embs\"\n",
    "\n",
    "# Safe embeddings\n",
    "import os\n",
    "emb = emb_concat\n",
    "model_name = \"node2vec_gae\"\n",
    "city = \"porto\"\n",
    "add = \"\"\n",
    "embs_file = f\"{city}_cell_embs_{model_name}{add}.pkl\"\n",
    "embs_file = os.path.join(save_path, embs_file)\n",
    "with open(embs_file, 'wb') as fh:\n",
    "    pickle.dump(emb, fh, protocol = pickle.HIGHEST_PROTOCOL)\n",
    "    print(\"Saved to: \", embs_file)"
   ]
  },
  {
   "cell_type": "code",
   "execution_count": null,
   "metadata": {},
   "outputs": [],
   "source": []
  }
 ],
 "metadata": {
  "kernelspec": {
   "display_name": "lightly",
   "language": "python",
   "name": "python3"
  },
  "language_info": {
   "codemirror_mode": {
    "name": "ipython",
    "version": 3
   },
   "file_extension": ".py",
   "mimetype": "text/x-python",
   "name": "python",
   "nbconvert_exporter": "python",
   "pygments_lexer": "ipython3",
   "version": "3.9.15"
  },
  "orig_nbformat": 4
 },
 "nbformat": 4,
 "nbformat_minor": 2
}
