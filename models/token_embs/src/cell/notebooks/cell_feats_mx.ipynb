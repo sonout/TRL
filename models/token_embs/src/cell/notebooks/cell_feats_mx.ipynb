{
 "cells": [
  {
   "cell_type": "code",
   "execution_count": null,
   "metadata": {},
   "outputs": [],
   "source": [
    "import os\n",
    "import sys\n",
    "import pickle\n",
    "import torch\n",
    "import math\n",
    "from tqdm import tqdm \n",
    "\n",
    "import osmnx as ox\n",
    "import geopandas as gpd\n",
    "\n",
    "sys.path.append(\"../..\")\n",
    "\n",
    "from cellspace import CellSpace\n",
    "from node2vec import train_node2vec\n",
    "\n",
    "from pipelines.utils import ROOT_DIR, load_config\n",
    "from models.utils import meters2lonlat, lonlat2meters"
   ]
  },
  {
   "cell_type": "code",
   "execution_count": null,
   "metadata": {},
   "outputs": [],
   "source": []
  },
  {
   "cell_type": "code",
   "execution_count": null,
   "metadata": {},
   "outputs": [],
   "source": [
    "data_config = load_config(name='porto', ctype=\"dataset\")"
   ]
  },
  {
   "cell_type": "code",
   "execution_count": null,
   "metadata": {},
   "outputs": [],
   "source": [
    "x_min, y_min = lonlat2meters(data_config['min_lon'], data_config['min_lat'])\n",
    "x_max, y_max = lonlat2meters(data_config['max_lon'], data_config['max_lat'])\n",
    "x_min -= data_config['cellspace_buffer']\n",
    "y_min -= data_config['cellspace_buffer']\n",
    "x_max += data_config['cellspace_buffer']\n",
    "y_max += data_config['cellspace_buffer']"
   ]
  },
  {
   "cell_type": "code",
   "execution_count": null,
   "metadata": {},
   "outputs": [],
   "source": [
    "cell_size = int(data_config['cell_size'])\n",
    "cs = CellSpace(cell_size, cell_size, x_min, y_min, x_max, y_max)"
   ]
  },
  {
   "cell_type": "code",
   "execution_count": null,
   "metadata": {},
   "outputs": [],
   "source": [
    "# Todo: safe Cellspace"
   ]
  },
  {
   "cell_type": "code",
   "execution_count": null,
   "metadata": {},
   "outputs": [],
   "source": []
  },
  {
   "cell_type": "code",
   "execution_count": null,
   "metadata": {},
   "outputs": [],
   "source": [
    "# Obtain for each cell the POIs inside it\n",
    "# def get_cell_pois(cs):\n",
    "#     for i in range(cs.x_size):\n",
    "#         # obtain (x_i, y_i) of cell i\n",
    "#         x_i, y_i = cs.get_xyidx_by_cellid(i)\n",
    "#         # Get bbox\n",
    "#         x1,y1, x2, y2 = cs.get_mbr(x_i, y_i)\n",
    "#         # Get lon, lats\n",
    "#         west_lon, south_lat = meters2lonlat(x1, y1)\n",
    "#         east_lon, north_lat = meters2lonlat(x2, y2)\n",
    "#         # Get POIs\n",
    "#         tags = {\"amenity\": True, \"building\": True, \"craft\": True, \"healthcare\": True, 'highway':True, 'landuse':True, \"office\": True, \"leisure\": True, \"shop\": True, \"tourism\": True, \"sport\": True}\n",
    "#         ox.features.features_from_bbox(north_lat, south_lat, east_lon, west_lon,  tags = tags)\n",
    "\n"
   ]
  },
  {
   "cell_type": "code",
   "execution_count": null,
   "metadata": {},
   "outputs": [],
   "source": [
    "# tags = {\"amenity\": True, \"building\": True, 'landuse':True, \"office\": True, \"leisure\": True, \"shop\": True, \"tourism\": True}\n",
    "# pois_tag = ox.features.features_from_place(\"Porto, Portugal\", tags = tags)"
   ]
  },
  {
   "cell_type": "markdown",
   "metadata": {},
   "source": [
    "### New Approach\n",
    "\n",
    "Obtain df with category, point"
   ]
  },
  {
   "cell_type": "code",
   "execution_count": null,
   "metadata": {},
   "outputs": [],
   "source": [
    "cell_gdf = cs.get_celldf()"
   ]
  },
  {
   "cell_type": "code",
   "execution_count": null,
   "metadata": {},
   "outputs": [],
   "source": [
    "len(cell_gdf)"
   ]
  },
  {
   "cell_type": "code",
   "execution_count": null,
   "metadata": {},
   "outputs": [],
   "source": [
    "cell_gdf.iloc[-1]"
   ]
  },
  {
   "cell_type": "markdown",
   "metadata": {},
   "source": [
    "#### Get POI for whole grid"
   ]
  },
  {
   "cell_type": "code",
   "execution_count": null,
   "metadata": {},
   "outputs": [],
   "source": [
    "# https://wiki.openstreetmap.org/wiki/Map_Features\n",
    "def preprocess_poi(poi_df, tags = [\"healthcare\", \"amenity\", \"craft\", \"tourism\", \"office\", \"leisure\", \"shop\", \"building\"]  ):\n",
    "    \n",
    "    poi_df_cat = poi_df[tags + [\"geometry\"]].copy()\n",
    "    #poi_df_cat = poi_df_cat.loc[\"node\", :]\n",
    "    poi_df_cat.loc[:, \"poi\"] = poi_df_cat[tags].bfill(axis=1).iloc[:, 0]\n",
    "    poi_df_cat.loc[:, \"poi\"] = poi_df_cat[\"poi\"].astype('category')  \n",
    "    poi_df_cat.loc[:, \"category\"] = poi_df_cat[tags].notnull().idxmax(axis=1)\n",
    "    poi_df_cat = poi_df_cat[[\"poi\", \"category\", \"geometry\"]].dropna(axis=0)\n",
    "    # to gdf\n",
    "    poi_df_cat = gpd.GeoDataFrame(poi_df_cat, geometry='geometry', crs='EPSG:4326')\n",
    "    return poi_df_cat"
   ]
  },
  {
   "cell_type": "code",
   "execution_count": null,
   "metadata": {},
   "outputs": [],
   "source": [
    "# Need to select which tags we use, and if we divide into subgroups, especially for amenity\n",
    "tags = {\"healthcare\": True, \"amenity\": True, \"craft\": True, \"tourism\": True, \"office\": True, \"leisure\": True, \"shop\": True, \"building\": True}\n",
    "tags = {\"amenity\": True}\n",
    "poi_df = ox.features.features_from_bbox(data_config['min_lat'], data_config['max_lat'], data_config['min_lon'], data_config['max_lon'], tags)"
   ]
  },
  {
   "cell_type": "code",
   "execution_count": null,
   "metadata": {},
   "outputs": [],
   "source": [
    "poi_df_procesed = preprocess_poi(poi_df)"
   ]
  },
  {
   "cell_type": "code",
   "execution_count": null,
   "metadata": {},
   "outputs": [],
   "source": []
  },
  {
   "cell_type": "code",
   "execution_count": null,
   "metadata": {},
   "outputs": [],
   "source": [
    "len(cell_gdf)"
   ]
  },
  {
   "cell_type": "code",
   "execution_count": null,
   "metadata": {},
   "outputs": [],
   "source": []
  },
  {
   "cell_type": "code",
   "execution_count": null,
   "metadata": {},
   "outputs": [],
   "source": []
  },
  {
   "cell_type": "code",
   "execution_count": null,
   "metadata": {},
   "outputs": [],
   "source": [
    "# Get the distinct values of the 'category' column in poi_df_procesed\n",
    "categories = poi_df_procesed['category'].unique()\n",
    "\n",
    "# Create a spatial join between cell_gdf and poi_df_procesed\n",
    "spatial_join = gpd.sjoin(cell_gdf, poi_df_procesed, how='left', op='intersects')\n",
    "\n",
    "# Group the spatial join by the 'cell_id' column and count the number of POIs of each category within each cell\n",
    "category_counts = spatial_join.groupby('cell_id')['category'].value_counts().unstack().fillna(0).astype(int)\n",
    "\n",
    "# Add the category counts as new columns in cell_gdf\n",
    "#cell_gdf = cell_gdf.merge(category_counts, left_on='cell_id', right_index=True, how='left').fillna(0)"
   ]
  },
  {
   "cell_type": "code",
   "execution_count": null,
   "metadata": {},
   "outputs": [],
   "source": [
    "len(cell_gdf)"
   ]
  },
  {
   "cell_type": "code",
   "execution_count": null,
   "metadata": {},
   "outputs": [],
   "source": [
    "cell_gdf = cell_gdf.merge(category_counts, left_on='cell_id', right_index=True, how='left').fillna(0)"
   ]
  },
  {
   "cell_type": "code",
   "execution_count": null,
   "metadata": {},
   "outputs": [],
   "source": [
    "len(cell_gdf)"
   ]
  },
  {
   "cell_type": "code",
   "execution_count": null,
   "metadata": {},
   "outputs": [],
   "source": [
    "# For features we want also to use the x_i, y_i from cell_tuple\n",
    "cell_gdf['x'] = cell_gdf['cell_tuple'].apply(lambda x: x[0])\n",
    "cell_gdf['y'] = cell_gdf['cell_tuple'].apply(lambda x: x[1])\n"
   ]
  },
  {
   "cell_type": "code",
   "execution_count": null,
   "metadata": {},
   "outputs": [],
   "source": [
    "cell_gdf"
   ]
  },
  {
   "cell_type": "code",
   "execution_count": null,
   "metadata": {},
   "outputs": [],
   "source": [
    "# Final cell feature matrix\n",
    "cell_gdf.iloc[:,4:].values"
   ]
  },
  {
   "cell_type": "code",
   "execution_count": null,
   "metadata": {},
   "outputs": [],
   "source": [
    "#### Print Cells which do not have POIs\n",
    "\n",
    "cell_gdf_nopois = cell_gdf[cell_gdf.iloc[:, 4:].eq(0).all(axis=1)]\n",
    "\n",
    "import folium\n",
    "from folium import GeoJson\n",
    "\n",
    "# Get the centroid of the first polygon\n",
    "first_polygon = cell_gdf_nopois.iloc[0].geometry\n",
    "centroid = first_polygon.centroid\n",
    "\n",
    "# Create a Folium map centered at the centroid of the first polygon\n",
    "m = folium.Map(location=[centroid.y, centroid.x], zoom_start=13)\n",
    "\n",
    "# Add the polygons from the geometry column to the map\n",
    "GeoJson(cell_gdf_nopois).add_to(m)\n",
    "\n",
    "# Display the map\n",
    "#m\n"
   ]
  },
  {
   "cell_type": "code",
   "execution_count": null,
   "metadata": {},
   "outputs": [],
   "source": [
    "cell_gdf2.iloc[35364]"
   ]
  },
  {
   "cell_type": "code",
   "execution_count": null,
   "metadata": {},
   "outputs": [],
   "source": [
    "category_counts"
   ]
  },
  {
   "cell_type": "code",
   "execution_count": null,
   "metadata": {},
   "outputs": [],
   "source": [
    "cell_gdf.columns"
   ]
  },
  {
   "cell_type": "code",
   "execution_count": null,
   "metadata": {},
   "outputs": [],
   "source": [
    "cell_gdf"
   ]
  },
  {
   "cell_type": "code",
   "execution_count": null,
   "metadata": {},
   "outputs": [],
   "source": [
    "poi_df_procesed"
   ]
  },
  {
   "cell_type": "markdown",
   "metadata": {},
   "source": [
    "### Try TF-IDF approach"
   ]
  },
  {
   "cell_type": "code",
   "execution_count": null,
   "metadata": {},
   "outputs": [],
   "source": [
    "# Create a list for each cell, containing the POI categories in that cell.\n",
    "grid_poi_list = []\n",
    "for index, row in tqdm(cell_gdf.iterrows()):\n",
    "    mask = poi_df_procesed.within(row['geometry'])\n",
    "    grid_poi_list.append(list(poi_df_procesed.loc[mask].category))"
   ]
  },
  {
   "cell_type": "code",
   "execution_count": null,
   "metadata": {},
   "outputs": [],
   "source": [
    "# Iterate over grid_poi_list and count if the list is empty\n",
    "count = 0\n",
    "count_empty = 0\n",
    "for i in range(0, len(grid_poi_list)):\n",
    "    if len(grid_poi_list[i]) != 0:\n",
    "        count = count+1\n",
    "    else:\n",
    "        count_empty = count_empty+1\n",
    "print(count)\n",
    "print(count_empty)"
   ]
  },
  {
   "cell_type": "code",
   "execution_count": null,
   "metadata": {},
   "outputs": [],
   "source": [
    "# Iterate over grid_poi_list an create a corpus\n",
    "corpus = []\n",
    "for cell_poi in grid_poi_list:\n",
    "    if len(cell_poi) != 0:\n",
    "        string = ' '.join(cell_poi) # Obtain a string from the list of strings\n",
    "        # add to corpus\n",
    "        corpus.append(string)   "
   ]
  },
  {
   "cell_type": "code",
   "execution_count": null,
   "metadata": {},
   "outputs": [],
   "source": [
    "from sklearn.feature_extraction.text import TfidfVectorizer\n",
    "\n",
    "# Create a corpus of documents (in this example, just two documents)\n",
    "#corpus = ['The car is driven on the road.', 'The truck is driven on the highway.']\n",
    "\n",
    "# Initialize the TfidfVectorizer\n",
    "vectorizer = TfidfVectorizer()\n",
    "\n",
    "# Compute the TF-IDF vectors for the corpus\n",
    "tfidf_vectors = vectorizer.fit_transform(corpus)\n",
    "\n",
    "# The resulting vectors are stored in a sparse matrix\n",
    "print(tfidf_vectors.todense())\n"
   ]
  },
  {
   "cell_type": "code",
   "execution_count": null,
   "metadata": {},
   "outputs": [],
   "source": [
    "tfidf_vectors.todense().shape"
   ]
  },
  {
   "cell_type": "code",
   "execution_count": null,
   "metadata": {},
   "outputs": [],
   "source": [
    "# Next:\n",
    "# use the output as feats vector\n",
    "# we need further feats: x_i, y_i, Space2vec?\n",
    "\n",
    "# Get flows?\n",
    "# Embeddng Model, similar to road, or even same"
   ]
  },
  {
   "cell_type": "code",
   "execution_count": null,
   "metadata": {},
   "outputs": [],
   "source": []
  }
 ],
 "metadata": {
  "kernelspec": {
   "display_name": "lightly",
   "language": "python",
   "name": "python3"
  },
  "language_info": {
   "codemirror_mode": {
    "name": "ipython",
    "version": 3
   },
   "file_extension": ".py",
   "mimetype": "text/x-python",
   "name": "python",
   "nbconvert_exporter": "python",
   "pygments_lexer": "ipython3",
   "version": "3.9.15"
  },
  "orig_nbformat": 4
 },
 "nbformat": 4,
 "nbformat_minor": 2
}
